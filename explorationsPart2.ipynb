{
 "cells": [
  {
   "cell_type": "code",
   "execution_count": 40,
   "metadata": {
    "collapsed": false
   },
   "outputs": [],
   "source": [
    "library(ggplot2)\n",
    "library(scales)\n",
    "library(dplyr)\n",
    "library(reshape)\n",
    "library(plotly)\n",
    "library(ggthemes)\n",
    "data <- read.delim(\"~/Documents/csc140/grades/withHW7.csv\", row.names=1, comment.char=\"#\")"
   ]
  },
  {
   "cell_type": "code",
   "execution_count": 41,
   "metadata": {
    "collapsed": false
   },
   "outputs": [],
   "source": [
    "onlyQuizzes <- data[,2:7]\n",
    "removeMin <- function(row){\n",
    "  which.min(row)\n",
    "}\n",
    "\n",
    "for(i in 1:nrow(onlyQuizzes)){\n",
    "  onlyQuizzes[i,removeMin(onlyQuizzes[i,])] = NA\n",
    "}\n",
    "data[,2:7] = onlyQuizzes\n",
    "data = data [,1:7]"
   ]
  },
  {
   "cell_type": "code",
   "execution_count": 42,
   "metadata": {
    "collapsed": false
   },
   "outputs": [
    {
     "data": {
      "text/html": [
       "<table>\n",
       "<thead><tr><th></th><th scope=col>H3</th><th scope=col>Q1</th><th scope=col>Q2</th><th scope=col>Q3</th><th scope=col>Q4</th><th scope=col>Q5</th><th scope=col>Q7</th><th scope=col>percent</th></tr></thead>\n",
       "<tbody>\n",
       "\t<tr><th scope=row>104</th><td>6</td><td>3</td><td>6</td><td>4</td><td>7.5</td><td>NA</td><td>3.5</td><td>0.4351347</td></tr>\n",
       "\t<tr><th scope=row>221</th><td>4</td><td>NA</td><td>0.5</td><td>5</td><td>0.5</td><td>0.5</td><td>0.5</td><td>0.1549548</td></tr>\n",
       "\t<tr><th scope=row>293</th><td>18</td><td>8</td><td>10</td><td>NA</td><td>6.5</td><td>8</td><td>9</td><td>0.8474466</td></tr>\n",
       "\t<tr><th scope=row>368</th><td>7</td><td>NA</td><td>7.5</td><td>6</td><td>3</td><td>5</td><td>3.5</td><td>0.4626121</td></tr>\n",
       "\t<tr><th scope=row>697</th><td>6</td><td>3</td><td>6</td><td>7</td><td>4</td><td>NA</td><td>3</td><td>0.4201197</td></tr>\n",
       "\t<tr><th scope=row>799</th><td>17</td><td>10</td><td>10</td><td>10</td><td>9</td><td>8</td><td>NA</td><td>0.9175667</td></tr>\n",
       "\t<tr><th scope=row>1091</th><td>13</td><td>10</td><td>9.5</td><td>10</td><td>9</td><td>NA</td><td>9</td><td>0.8752244</td></tr>\n",
       "\t<tr><th scope=row>1123</th><td>15</td><td>9</td><td>7.5</td><td>8.5</td><td>3.5</td><td>NA</td><td>8</td><td>0.7349843</td></tr>\n",
       "\t<tr><th scope=row>1319</th><td>6</td><td>8</td><td>8.5</td><td>9</td><td>3</td><td>1</td><td>NA</td><td>0.5177172</td></tr>\n",
       "\t<tr><th scope=row>1331</th><td>7</td><td>4</td><td>7</td><td>5.5</td><td>5.5</td><td>NA</td><td>4</td><td>0.4776272</td></tr>\n",
       "\t<tr><th scope=row>1775</th><td>5</td><td>9</td><td>9.5</td><td>9</td><td>7</td><td>NA</td><td>8</td><td>0.7004497</td></tr>\n",
       "\t<tr><th scope=row>1872</th><td>6</td><td>3</td><td>5.5</td><td>4</td><td>NA</td><td>1</td><td>2.5</td><td>0.3150147</td></tr>\n",
       "\t<tr><th scope=row>2414</th><td>7</td><td>NA</td><td>9.5</td><td>8</td><td>4</td><td>NA</td><td>NA</td><td>0.4100596</td></tr>\n",
       "\t<tr><th scope=row>2492</th><td>0</td><td>NA</td><td>2</td><td>5.5</td><td>5.5</td><td>NA</td><td>5.5</td><td>0.2777775</td></tr>\n",
       "\t<tr><th scope=row>3141</th><td>9</td><td>5</td><td>5</td><td>6</td><td>NA</td><td>4</td><td>3</td><td>0.4575071</td></tr>\n",
       "\t<tr><th scope=row>3527</th><td>7</td><td>5</td><td>7.5</td><td>10</td><td>4</td><td>NA</td><td>7.5</td><td>0.5977472</td></tr>\n",
       "\t<tr><th scope=row>3539</th><td>7</td><td>NA</td><td>6</td><td>6</td><td>7.5</td><td>8</td><td>6</td><td>0.5902397</td></tr>\n",
       "\t<tr><th scope=row>3680</th><td>8</td><td>NA</td><td>2.5</td><td>5.5</td><td>3</td><td>1</td><td>2</td><td>0.3099096</td></tr>\n",
       "\t<tr><th scope=row>3755</th><td>13</td><td>3</td><td>6.5</td><td>2.5</td><td>3.5</td><td>NA</td><td>4.5</td><td>0.4623119</td></tr>\n",
       "\t<tr><th scope=row>4650</th><td>8</td><td>NA</td><td>4.5</td><td>5.5</td><td>3</td><td>5</td><td>3</td><td>0.4150146</td></tr>\n",
       "\t<tr><th scope=row>5274</th><td>0</td><td>5</td><td>8.5</td><td>6</td><td>4</td><td>4</td><td>NA</td><td>0.4129125</td></tr>\n",
       "\t<tr><th scope=row>5288</th><td>14</td><td>9</td><td>8</td><td>8</td><td>7.5</td><td>NA</td><td>8</td><td>0.7825818</td></tr>\n",
       "\t<tr><th scope=row>6308</th><td>1</td><td>2</td><td>5.5</td><td>4</td><td>2</td><td>2</td><td>NA</td><td>0.245195</td></tr>\n",
       "\t<tr><th scope=row>6969</th><td>0</td><td>6</td><td>NA</td><td>5</td><td>4</td><td>7</td><td>0.5</td><td>0.3378375</td></tr>\n",
       "\t<tr><th scope=row>7088</th><td>0</td><td>NA</td><td>6</td><td>9</td><td>7</td><td>4</td><td>7</td><td>0.495495</td></tr>\n",
       "\t<tr><th scope=row>7472</th><td>13</td><td>9</td><td>6.5</td><td>NA</td><td>7</td><td>7</td><td>6</td><td>0.6950444</td></tr>\n",
       "\t<tr><th scope=row>7599</th><td>4</td><td>3</td><td>5.5</td><td>5.5</td><td>3</td><td>1</td><td>NA</td><td>0.3201198</td></tr>\n",
       "\t<tr><th scope=row>7696</th><td>5</td><td>4</td><td>6</td><td>7</td><td>NA</td><td>2</td><td>4.5</td><td>0.4151648</td></tr>\n",
       "\t<tr><th scope=row>8037</th><td>5</td><td>3</td><td>3.5</td><td>5</td><td>2</td><td>5</td><td>NA</td><td>0.3400898</td></tr>\n",
       "\t<tr><th scope=row>8221</th><td>7</td><td>3</td><td>8.5</td><td>5.5</td><td>NA</td><td>4</td><td>3</td><td>0.4475971</td></tr>\n",
       "\t<tr><th scope=row>8473</th><td>15</td><td>8</td><td>7</td><td>8</td><td>NA</td><td>4</td><td>10</td><td>0.7424918</td></tr>\n",
       "\t<tr><th scope=row>8698</th><td>0</td><td>NA</td><td>3.5</td><td>8.5</td><td>3</td><td>0.5</td><td>3</td><td>0.2777775</td></tr>\n",
       "\t<tr><th scope=row>9600</th><td>5</td><td>3</td><td>6</td><td>6</td><td>1</td><td>1</td><td>NA</td><td>0.3175673</td></tr>\n",
       "</tbody>\n",
       "</table>\n"
      ],
      "text/latex": [
       "\\begin{tabular}{r|llllllll}\n",
       "  & H3 & Q1 & Q2 & Q3 & Q4 & Q5 & Q7 & percent\\\\\n",
       "\\hline\n",
       "\t104 & 6 & 3 & 6 & 4 & 7.5 & NA & 3.5 & 0.4351347\\\\\n",
       "\t221 & 4 & NA & 0.5 & 5 & 0.5 & 0.5 & 0.5 & 0.1549548\\\\\n",
       "\t293 & 18 & 8 & 10 & NA & 6.5 & 8 & 9 & 0.8474466\\\\\n",
       "\t368 & 7 & NA & 7.5 & 6 & 3 & 5 & 3.5 & 0.4626121\\\\\n",
       "\t697 & 6 & 3 & 6 & 7 & 4 & NA & 3 & 0.4201197\\\\\n",
       "\t799 & 17 & 10 & 10 & 10 & 9 & 8 & NA & 0.9175667\\\\\n",
       "\t1091 & 13 & 10 & 9.5 & 10 & 9 & NA & 9 & 0.8752244\\\\\n",
       "\t1123 & 15 & 9 & 7.5 & 8.5 & 3.5 & NA & 8 & 0.7349843\\\\\n",
       "\t1319 & 6 & 8 & 8.5 & 9 & 3 & 1 & NA & 0.5177172\\\\\n",
       "\t1331 & 7 & 4 & 7 & 5.5 & 5.5 & NA & 4 & 0.4776272\\\\\n",
       "\t1775 & 5 & 9 & 9.5 & 9 & 7 & NA & 8 & 0.7004497\\\\\n",
       "\t1872 & 6 & 3 & 5.5 & 4 & NA & 1 & 2.5 & 0.3150147\\\\\n",
       "\t2414 & 7 & NA & 9.5 & 8 & 4 & NA & NA & 0.4100596\\\\\n",
       "\t2492 & 0 & NA & 2 & 5.5 & 5.5 & NA & 5.5 & 0.2777775\\\\\n",
       "\t3141 & 9 & 5 & 5 & 6 & NA & 4 & 3 & 0.4575071\\\\\n",
       "\t3527 & 7 & 5 & 7.5 & 10 & 4 & NA & 7.5 & 0.5977472\\\\\n",
       "\t3539 & 7 & NA & 6 & 6 & 7.5 & 8 & 6 & 0.5902397\\\\\n",
       "\t3680 & 8 & NA & 2.5 & 5.5 & 3 & 1 & 2 & 0.3099096\\\\\n",
       "\t3755 & 13 & 3 & 6.5 & 2.5 & 3.5 & NA & 4.5 & 0.4623119\\\\\n",
       "\t4650 & 8 & NA & 4.5 & 5.5 & 3 & 5 & 3 & 0.4150146\\\\\n",
       "\t5274 & 0 & 5 & 8.5 & 6 & 4 & 4 & NA & 0.4129125\\\\\n",
       "\t5288 & 14 & 9 & 8 & 8 & 7.5 & NA & 8 & 0.7825818\\\\\n",
       "\t6308 & 1 & 2 & 5.5 & 4 & 2 & 2 & NA & 0.245195\\\\\n",
       "\t6969 & 0 & 6 & NA & 5 & 4 & 7 & 0.5 & 0.3378375\\\\\n",
       "\t7088 & 0 & NA & 6 & 9 & 7 & 4 & 7 & 0.495495\\\\\n",
       "\t7472 & 13 & 9 & 6.5 & NA & 7 & 7 & 6 & 0.6950444\\\\\n",
       "\t7599 & 4 & 3 & 5.5 & 5.5 & 3 & 1 & NA & 0.3201198\\\\\n",
       "\t7696 & 5 & 4 & 6 & 7 & NA & 2 & 4.5 & 0.4151648\\\\\n",
       "\t8037 & 5 & 3 & 3.5 & 5 & 2 & 5 & NA & 0.3400898\\\\\n",
       "\t8221 & 7 & 3 & 8.5 & 5.5 & NA & 4 & 3 & 0.4475971\\\\\n",
       "\t8473 & 15 & 8 & 7 & 8 & NA & 4 & 10 & 0.7424918\\\\\n",
       "\t8698 & 0 & NA & 3.5 & 8.5 & 3 & 0.5 & 3 & 0.2777775\\\\\n",
       "\t9600 & 5 & 3 & 6 & 6 & 1 & 1 & NA & 0.3175673\\\\\n",
       "\\end{tabular}\n"
      ],
      "text/plain": [
       "     H3 Q1   Q2   Q3  Q4  Q5   Q7   percent\n",
       "104   6  3  6.0  4.0 7.5  NA  3.5 0.4351347\n",
       "221   4 NA  0.5  5.0 0.5 0.5  0.5 0.1549548\n",
       "293  18  8 10.0   NA 6.5 8.0  9.0 0.8474466\n",
       "368   7 NA  7.5  6.0 3.0 5.0  3.5 0.4626121\n",
       "697   6  3  6.0  7.0 4.0  NA  3.0 0.4201197\n",
       "799  17 10 10.0 10.0 9.0 8.0   NA 0.9175667\n",
       "1091 13 10  9.5 10.0 9.0  NA  9.0 0.8752244\n",
       "1123 15  9  7.5  8.5 3.5  NA  8.0 0.7349843\n",
       "1319  6  8  8.5  9.0 3.0 1.0   NA 0.5177172\n",
       "1331  7  4  7.0  5.5 5.5  NA  4.0 0.4776272\n",
       "1775  5  9  9.5  9.0 7.0  NA  8.0 0.7004497\n",
       "1872  6  3  5.5  4.0  NA 1.0  2.5 0.3150147\n",
       "2414  7 NA  9.5  8.0 4.0  NA   NA 0.4100596\n",
       "2492  0 NA  2.0  5.5 5.5  NA  5.5 0.2777775\n",
       "3141  9  5  5.0  6.0  NA 4.0  3.0 0.4575071\n",
       "3527  7  5  7.5 10.0 4.0  NA  7.5 0.5977472\n",
       "3539  7 NA  6.0  6.0 7.5 8.0  6.0 0.5902397\n",
       "3680  8 NA  2.5  5.5 3.0 1.0  2.0 0.3099096\n",
       "3755 13  3  6.5  2.5 3.5  NA  4.5 0.4623119\n",
       "4650  8 NA  4.5  5.5 3.0 5.0  3.0 0.4150146\n",
       "5274  0  5  8.5  6.0 4.0 4.0   NA 0.4129125\n",
       "5288 14  9  8.0  8.0 7.5  NA  8.0 0.7825818\n",
       "6308  1  2  5.5  4.0 2.0 2.0   NA 0.2451950\n",
       "6969  0  6   NA  5.0 4.0 7.0  0.5 0.3378375\n",
       "7088  0 NA  6.0  9.0 7.0 4.0  7.0 0.4954950\n",
       "7472 13  9  6.5   NA 7.0 7.0  6.0 0.6950444\n",
       "7599  4  3  5.5  5.5 3.0 1.0   NA 0.3201198\n",
       "7696  5  4  6.0  7.0  NA 2.0  4.5 0.4151648\n",
       "8037  5  3  3.5  5.0 2.0 5.0   NA 0.3400898\n",
       "8221  7  3  8.5  5.5  NA 4.0  3.0 0.4475971\n",
       "8473 15  8  7.0  8.0  NA 4.0 10.0 0.7424918\n",
       "8698  0 NA  3.5  8.5 3.0 0.5  3.0 0.2777775\n",
       "9600  5  3  6.0  6.0 1.0 1.0   NA 0.3175673"
      ]
     },
     "execution_count": 42,
     "metadata": {},
     "output_type": "execute_result"
    }
   ],
   "source": [
    "weightedPercent <- function(row){\n",
    "    (row[1]/20)*.249249 + (sum(row[2:7],na.rm=TRUE)/50)*.750750\n",
    "    #(row[1]/20)*.166 + (sum(row[2:6],na.rm=TRUE)/50)*.500\n",
    "}\n",
    "data$percent = apply(data,1,weightedPercent)\n",
    "    data"
   ]
  },
  {
   "cell_type": "code",
   "execution_count": 43,
   "metadata": {
    "collapsed": true
   },
   "outputs": [],
   "source": [
    "stats = function(i){\n",
    "    data.frame(mean =   mean(data[,i],na.rm=TRUE),\n",
    "                        median = median(data[,i],na.rm=TRUE),\n",
    "                        sd = sd(data[,i],na.rm=TRUE),\n",
    "                        numNA = sum(is.na(data[,i])),\n",
    "                        min = min(data[,i],na.rm=TRUE),\n",
    "                        max = max(data[,i],na.rm=TRUE))\n",
    "}"
   ]
  },
  {
   "cell_type": "code",
   "execution_count": 44,
   "metadata": {
    "collapsed": false
   },
   "outputs": [
    {
     "data": {
      "text/html": [
       "<iframe src=\"plotlyJupyterHTML/f624b5b059c07033adc4e506517b263e.html\" width=\"100%\" height=\"400\" id=\"igraph\" scrolling=\"no\" seamless=\"seamless\" frameBorder=\"0\"> </iframe>"
      ]
     },
     "metadata": {},
     "output_type": "display_data"
    }
   ],
   "source": [
    "plot = ggplot(data,aes(x=H3)) + \n",
    "    geom_histogram(binwidth=1) + \n",
    "    scale_x_continuous(breaks=pretty_breaks(n=20))\n",
    "H3Stats = stats(1)\n",
    "embed_notebook(ggplotly(plot))"
   ]
  },
  {
   "cell_type": "code",
   "execution_count": 45,
   "metadata": {
    "collapsed": false
   },
   "outputs": [
    {
     "name": "stderr",
     "output_type": "stream",
     "text": [
      "Warning message:\n",
      ": Removed 9 rows containing non-finite values (stat_bin)."
     ]
    },
    {
     "data": {
      "text/html": [
       "<iframe src=\"plotlyJupyterHTML/2ef8c08b86a39f83b9829a179e96cfbd.html\" width=\"100%\" height=\"400\" id=\"igraph\" scrolling=\"no\" seamless=\"seamless\" frameBorder=\"0\"> </iframe>"
      ]
     },
     "metadata": {},
     "output_type": "display_data"
    }
   ],
   "source": [
    "plot = ggplot(data,aes(x=Q1)) + \n",
    "    geom_histogram(binwidth=.5) + \n",
    "    scale_x_continuous(breaks=pretty_breaks(n=10))\n",
    "Q1Stats = stats(2)\n",
    "embed_notebook(ggplotly(plot))"
   ]
  },
  {
   "cell_type": "code",
   "execution_count": 46,
   "metadata": {
    "collapsed": false
   },
   "outputs": [
    {
     "name": "stderr",
     "output_type": "stream",
     "text": [
      "Warning message:\n",
      ": Removed 1 rows containing non-finite values (stat_bin)."
     ]
    },
    {
     "data": {
      "text/html": [
       "<iframe src=\"plotlyJupyterHTML/c12eec1c85d048ee81f83bc2eddb056b.html\" width=\"100%\" height=\"400\" id=\"igraph\" scrolling=\"no\" seamless=\"seamless\" frameBorder=\"0\"> </iframe>"
      ]
     },
     "metadata": {},
     "output_type": "display_data"
    }
   ],
   "source": [
    "plot = ggplot(data,aes(x=Q2)) + \n",
    "    geom_histogram(binwidth=.5) + \n",
    "    scale_x_continuous(breaks=pretty_breaks(n=10))\n",
    "Q2Stats = stats(3)\n",
    "embed_notebook(ggplotly(plot))"
   ]
  },
  {
   "cell_type": "code",
   "execution_count": 47,
   "metadata": {
    "collapsed": false
   },
   "outputs": [
    {
     "name": "stderr",
     "output_type": "stream",
     "text": [
      "Warning message:\n",
      ": Removed 2 rows containing non-finite values (stat_bin)."
     ]
    },
    {
     "data": {
      "text/html": [
       "<iframe src=\"plotlyJupyterHTML/53a02709ee2f8c040455eddd0839c550.html\" width=\"100%\" height=\"400\" id=\"igraph\" scrolling=\"no\" seamless=\"seamless\" frameBorder=\"0\"> </iframe>"
      ]
     },
     "metadata": {},
     "output_type": "display_data"
    }
   ],
   "source": [
    "plot = ggplot(data,aes(x=Q3)) + \n",
    "    geom_histogram(binwidth=.5) + \n",
    "    scale_x_continuous(breaks=pretty_breaks(n=10))\n",
    "Q3Stats = stats(4)\n",
    "embed_notebook(ggplotly(plot))"
   ]
  },
  {
   "cell_type": "code",
   "execution_count": 48,
   "metadata": {
    "collapsed": false
   },
   "outputs": [
    {
     "name": "stderr",
     "output_type": "stream",
     "text": [
      "Warning message:\n",
      ": Removed 5 rows containing non-finite values (stat_bin)."
     ]
    },
    {
     "data": {
      "text/html": [
       "<iframe src=\"plotlyJupyterHTML/63672985973d1f99e98485c051f17ede.html\" width=\"100%\" height=\"400\" id=\"igraph\" scrolling=\"no\" seamless=\"seamless\" frameBorder=\"0\"> </iframe>"
      ]
     },
     "metadata": {},
     "output_type": "display_data"
    }
   ],
   "source": [
    "plot = ggplot(data,aes(x=Q4)) + \n",
    "    geom_histogram(binwidth=.5) + \n",
    "    scale_x_continuous(breaks=pretty_breaks(n=20))\n",
    "Q4Stats = stats(5)\n",
    "embed_notebook(ggplotly(plot))"
   ]
  },
  {
   "cell_type": "code",
   "execution_count": 49,
   "metadata": {
    "collapsed": false
   },
   "outputs": [
    {
     "name": "stderr",
     "output_type": "stream",
     "text": [
      "Warning message:\n",
      ": Removed 5 rows containing non-finite values (stat_bin)."
     ]
    },
    {
     "data": {
      "text/html": [
       "<iframe src=\"plotlyJupyterHTML/fa4802c105311671d024b7444727899b.html\" width=\"100%\" height=\"400\" id=\"igraph\" scrolling=\"no\" seamless=\"seamless\" frameBorder=\"0\"> </iframe>"
      ]
     },
     "metadata": {},
     "output_type": "display_data"
    }
   ],
   "source": [
    "pllot = ggplot(data,aes(x=Q5)) + \n",
    "    geom_histogram(binwidth=.5) + \n",
    "    scale_x_continuous(breaks=pretty_breaks(n=20))\n",
    "Q5Stats = stats(6)\n",
    "embed_notebook(ggplotly(plot))"
   ]
  },
  {
   "cell_type": "code",
   "execution_count": 50,
   "metadata": {
    "collapsed": false
   },
   "outputs": [
    {
     "name": "stderr",
     "output_type": "stream",
     "text": [
      "Warning message:\n",
      ": Removed 8 rows containing non-finite values (stat_bin)."
     ]
    },
    {
     "data": {
      "text/html": [
       "<iframe src=\"plotlyJupyterHTML/9f20c59d8d13d1c86f350bc53470d3b6.html\" width=\"100%\" height=\"400\" id=\"igraph\" scrolling=\"no\" seamless=\"seamless\" frameBorder=\"0\"> </iframe>"
      ]
     },
     "metadata": {},
     "output_type": "display_data"
    }
   ],
   "source": [
    "plot = ggplot(data,aes(x=Q7)) + \n",
    "    geom_histogram(binwidth=.5) + \n",
    "    scale_x_continuous(breaks=pretty_breaks(n=20))\n",
    "Q7Stats = stats(7)\n",
    "embed_notebook(ggplotly(plot))"
   ]
  },
  {
   "cell_type": "code",
   "execution_count": 51,
   "metadata": {
    "collapsed": false
   },
   "outputs": [],
   "source": [
    "allStats = Q1Stats\n",
    "allStats = rbind(allStats,Q2Stats)\n",
    "allStats = rbind(allStats,Q3Stats)\n",
    "allStats = rbind(allStats,Q4Stats)\n",
    "allStats = rbind(allStats,Q5Stats)\n",
    "allStats = rbind(allStats,Q7Stats)\n",
    "quizStats = allStats\n",
    "allStats = rbind(allStats,H3Stats)\n",
    "allStats = rbind(allStats,stats(8))\n",
    "qNames = c(\"Q1\",\"Q2\",\"Q3\",\"Q4\",\"Q5\",\"Q7\")\n",
    "row.names(quizStats) = qNames\n",
    "row.names(allStats) = c(qNames, \"H3\",\"Result\")"
   ]
  },
  {
   "cell_type": "code",
   "execution_count": 52,
   "metadata": {
    "collapsed": false,
    "scrolled": true
   },
   "outputs": [
    {
     "data": {
      "text/html": [
       "<table>\n",
       "<thead><tr><th></th><th scope=col>mean</th><th scope=col>median</th><th scope=col>sd</th><th scope=col>numNA</th><th scope=col>min</th><th scope=col>max</th></tr></thead>\n",
       "<tbody>\n",
       "\t<tr><th scope=row>Q1</th><td>5.625</td><td>5</td><td>2.763308</td><td>9</td><td>2</td><td>10</td></tr>\n",
       "\t<tr><th scope=row>Q2</th><td>6.421875</td><td>6.25</td><td>2.342143</td><td>1</td><td>0.5</td><td>10</td></tr>\n",
       "\t<tr><th scope=row>Q3</th><td>6.596774</td><td>6</td><td>1.993403</td><td>2</td><td>2.5</td><td>10</td></tr>\n",
       "\t<tr><th scope=row>Q4</th><td>4.625</td><td>4</td><td>2.351615</td><td>5</td><td>0.5</td><td>9</td></tr>\n",
       "\t<tr><th scope=row>Q5</th><td>3.772727</td><td>4</td><td>2.630984</td><td>11</td><td>0.5</td><td>8</td></tr>\n",
       "\t<tr><th scope=row>Q7</th><td>4.98</td><td>4.5</td><td>2.725191</td><td>8</td><td>0.5</td><td>10</td></tr>\n",
       "\t<tr><th scope=row>H3</th><td>7.212121</td><td>7</td><td>5.091399</td><td>0</td><td>0</td><td>18</td></tr>\n",
       "\t<tr><th scope=row>Result</th><td>0.4911907</td><td>0.4475971</td><td>0.1970565</td><td>0</td><td>0.1549548</td><td>0.9175667</td></tr>\n",
       "</tbody>\n",
       "</table>\n"
      ],
      "text/latex": [
       "\\begin{tabular}{r|llllll}\n",
       "  & mean & median & sd & numNA & min & max\\\\\n",
       "\\hline\n",
       "\tQ1 & 5.625 & 5 & 2.763308 & 9 & 2 & 10\\\\\n",
       "\tQ2 & 6.421875 & 6.25 & 2.342143 & 1 & 0.5 & 10\\\\\n",
       "\tQ3 & 6.596774 & 6 & 1.993403 & 2 & 2.5 & 10\\\\\n",
       "\tQ4 & 4.625 & 4 & 2.351615 & 5 & 0.5 & 9\\\\\n",
       "\tQ5 & 3.772727 & 4 & 2.630984 & 11 & 0.5 & 8\\\\\n",
       "\tQ7 & 4.98 & 4.5 & 2.725191 & 8 & 0.5 & 10\\\\\n",
       "\tH3 & 7.212121 & 7 & 5.091399 & 0 & 0 & 18\\\\\n",
       "\tResult & 0.4911907 & 0.4475971 & 0.1970565 & 0 & 0.1549548 & 0.9175667\\\\\n",
       "\\end{tabular}\n"
      ],
      "text/plain": [
       "            mean    median        sd numNA       min        max\n",
       "Q1     5.6250000 5.0000000 2.7633077     9 2.0000000 10.0000000\n",
       "Q2     6.4218750 6.2500000 2.3421433     1 0.5000000 10.0000000\n",
       "Q3     6.5967742 6.0000000 1.9934031     2 2.5000000 10.0000000\n",
       "Q4     4.6250000 4.0000000 2.3516149     5 0.5000000  9.0000000\n",
       "Q5     3.7727273 4.0000000 2.6309842    11 0.5000000  8.0000000\n",
       "Q7     4.9800000 4.5000000 2.7251911     8 0.5000000 10.0000000\n",
       "H3     7.2121212 7.0000000 5.0913995     0 0.0000000 18.0000000\n",
       "Result 0.4911907 0.4475971 0.1970565     0 0.1549548  0.9175667"
      ]
     },
     "execution_count": 52,
     "metadata": {},
     "output_type": "execute_result"
    }
   ],
   "source": [
    "allStats"
   ]
  },
  {
   "cell_type": "code",
   "execution_count": 53,
   "metadata": {
    "collapsed": false
   },
   "outputs": [],
   "source": [
    "noTotal = allStats[1:7,]\n",
    "meanSD = data.frame(category = c(\"q1\",\"q2\",\"q3\",\"q4\",\"q5\",\"q7\",\"h3\"),\n",
    "                    oneSDAbove = noTotal$mean + noTotal$sd,\n",
    "                    mean = noTotal$mean, \n",
    "                    oneSDBelow = noTotal$mean - noTotal$sd)"
   ]
  },
  {
   "cell_type": "code",
   "execution_count": 54,
   "metadata": {
    "collapsed": false,
    "scrolled": false
   },
   "outputs": [],
   "source": [
    "melted = melt(meanSD,id.vars=\"category\")\n",
    "melted$variable = as.character(melted$variable)\n",
    "melted$category = as.character(melted$category)\n",
    "melted = rbind(data.frame(category = c(\"q1\"),variable = c(\"result\"),value = filter(data, !is.na(data$Q1))$Q1),melted)\n",
    "melted = rbind(data.frame(category = c(\"q2\"),variable = c(\"result\"),value = filter(data, !is.na(data$Q2))$Q2),melted)\n",
    "melted = rbind(data.frame(category = c(\"q3\"),variable = c(\"result\"),value = filter(data, !is.na(data$Q3))$Q3),melted)\n",
    "melted = rbind(data.frame(category = c(\"q4\"),variable = c(\"result\"),value = filter(data, !is.na(data$Q4))$Q4),melted)\n",
    "melted = rbind(data.frame(category = c(\"q5\"),variable = c(\"result\"),value = filter(data, !is.na(data$Q5))$Q5),melted)\n",
    "melted = rbind(data.frame(category = c(\"q7\"),variable = c(\"result\"),value = filter(data, !is.na(data$Q7))$Q7),melted)\n",
    "\n",
    "melted = rbind(data.frame(category = c(\"h3\"),variable = c(\"result\"),value = filter(data, !is.na(data$H3))$H3),melted)\n",
    "melted$variable = as.factor(melted$variable)\n",
    "melted$category = as.factor(melted$category)"
   ]
  },
  {
   "cell_type": "code",
   "execution_count": 55,
   "metadata": {
    "collapsed": false
   },
   "outputs": [
    {
     "data": {
      "text/html": [
       "<iframe src=\"plotlyJupyterHTML/58bd4fe341b669d1487a4de4bc9513e1.html\" width=\"100%\" height=\"400\" id=\"igraph\" scrolling=\"no\" seamless=\"seamless\" frameBorder=\"0\"> </iframe>"
      ]
     },
     "metadata": {},
     "output_type": "display_data"
    }
   ],
   "source": [
    "cbbPalette <- c(\"#999999\", \"#00FF00\", \"#0000FF\", \"#FF0000\", \"#F0E442\", \"#0072B2\", \"#D55E00\", \"#CC79A7\")\n",
    "\n",
    "p = ggplot(melted, aes(x=category,y=value,color=variable)) + geom_point() + scale_colour_manual(values=cbbPalette)+theme_bw()\n",
    "embed_notebook(ggplotly(p))"
   ]
  },
  {
   "cell_type": "code",
   "execution_count": 56,
   "metadata": {
    "collapsed": false
   },
   "outputs": [],
   "source": [
    "onlyTotal = allStats[8,]\n",
    "onlyTot = data.frame(category = c(\"Total Score\"),\n",
    "                    oneSDAbove = onlyTotal$mean + onlyTotal$sd,\n",
    "                    mean = onlyTotal$mean, \n",
    "                    oneSDBelow = onlyTotal$mean - onlyTotal$sd)\n",
    "\n",
    "melted = melt(onlyTot,id.vars=\"category\")\n",
    "melted$variable = as.character(melted$variable)\n",
    "melted$category = as.character(melted$category)\n",
    "melted = rbind(data.frame(category = c(\"Total Score\"),variable = c(\"result\"),value = filter(data, !is.na(data$percent))$percent),melted)\n",
    "melted$variable = as.factor(melted$variable)\n",
    "melted$category = as.factor(melted$category)"
   ]
  },
  {
   "cell_type": "code",
   "execution_count": 57,
   "metadata": {
    "collapsed": false,
    "scrolled": false
   },
   "outputs": [
    {
     "data": {
      "text/html": [
       "<iframe src=\"plotlyJupyterHTML/2034ed60c20a4d29e352cd24b7a8f700.html\" width=\"100%\" height=\"400\" id=\"igraph\" scrolling=\"no\" seamless=\"seamless\" frameBorder=\"0\"> </iframe>"
      ]
     },
     "metadata": {},
     "output_type": "display_data"
    }
   ],
   "source": [
    "onlyTotal = allStats[8,]\n",
    "oneSDUp = onlyTotal$mean + onlyTotal$sd\n",
    "oneSDDown = onlyTotal$mean - onlyTotal$sd\n",
    "totalMean = onlyTotal$mean\n",
    "plot = ggplot(melted, aes(category, value,color=variable)) +\n",
    "    geom_point() +\n",
    "    scale_y_continuous(breaks=c(oneSDUp, oneSDDown, totalMean)) +\n",
    "    scale_colour_manual(values=cbbPalette) +\n",
    "    theme_bw()\n",
    "embed_notebook(ggplotly(plot))"
   ]
  },
  {
   "cell_type": "code",
   "execution_count": null,
   "metadata": {
    "collapsed": true
   },
   "outputs": [],
   "source": []
  }
 ],
 "metadata": {
  "kernelspec": {
   "display_name": "R",
   "language": "R",
   "name": "ir"
  },
  "language_info": {
   "codemirror_mode": "r",
   "file_extension": ".r",
   "mimetype": "text/x-r-source",
   "name": "R",
   "pygments_lexer": "r",
   "version": "3.2.2"
  }
 },
 "nbformat": 4,
 "nbformat_minor": 0
}
